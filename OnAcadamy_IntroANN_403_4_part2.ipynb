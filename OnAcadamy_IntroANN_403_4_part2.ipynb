{
  "nbformat": 4,
  "nbformat_minor": 0,
  "metadata": {
    "colab": {
      "provenance": []
    },
    "kernelspec": {
      "name": "python3",
      "display_name": "Python 3"
    },
    "language_info": {
      "name": "python"
    }
  },
  "cells": [
    {
      "cell_type": "markdown",
      "source": [
        "EDA"
      ],
      "metadata": {
        "id": "1YGX9FdyUbt3"
      }
    },
    {
      "cell_type": "markdown",
      "source": [
        "* Exploratory Data Analysis\n",
        "  * Predict data distribution\n",
        "  * Data loading\n",
        "  * Statistical Analysis ( count samples, samples per class, Pixel average, min, max, histogram )\n",
        "  * Visualizae some random samples\n"
      ],
      "metadata": {
        "id": "NMzRLHziXWgk"
      }
    },
    {
      "cell_type": "code",
      "source": [
        "import torch\n",
        "from torchvision import datasets, transforms\n",
        "from torch.utils.data import DataLoader\n",
        "import numpy as np\n",
        "import tqdm"
      ],
      "metadata": {
        "id": "-vmd0C62Uais"
      },
      "execution_count": null,
      "outputs": []
    },
    {
      "cell_type": "code",
      "execution_count": null,
      "metadata": {
        "id": "bNar-j-7S7gv"
      },
      "outputs": [],
      "source": [
        "transform = transforms.ToTensor()\n",
        "train_dataset = datasets.MNIST(root=\"./data\", train=True, download=True, transform= transform)\n",
        "test_dataset = datasets.MNIST(root=\"./data\", train=False, download=True, transform= transform)"
      ]
    },
    {
      "cell_type": "code",
      "source": [
        "len(train_dataset)"
      ],
      "metadata": {
        "colab": {
          "base_uri": "https://localhost:8080/"
        },
        "id": "HWHv58iYaNr2",
        "outputId": "de38585f-c79b-458c-b1f9-b9bb97d0c80c"
      },
      "execution_count": null,
      "outputs": [
        {
          "output_type": "execute_result",
          "data": {
            "text/plain": [
              "60000"
            ]
          },
          "metadata": {},
          "execution_count": 5
        }
      ]
    },
    {
      "cell_type": "code",
      "source": [
        "len(test_dataset)"
      ],
      "metadata": {
        "colab": {
          "base_uri": "https://localhost:8080/"
        },
        "id": "h9eZtFK2ayHh",
        "outputId": "4e6b2388-6773-4261-888d-534440bb6167"
      },
      "execution_count": null,
      "outputs": [
        {
          "output_type": "execute_result",
          "data": {
            "text/plain": [
              "10000"
            ]
          },
          "metadata": {},
          "execution_count": 6
        }
      ]
    },
    {
      "cell_type": "code",
      "source": [
        "train_loader = DataLoader(train_dataset, batch_size=16)\n",
        "test_loader = DataLoader(test_dataset, batch_size=16)"
      ],
      "metadata": {
        "id": "fM9CNhtIb2Y-"
      },
      "execution_count": null,
      "outputs": []
    },
    {
      "cell_type": "code",
      "source": [
        "images_np_list = []\n",
        "labels_np_list = []\n",
        "for images, labels in train_loader:\n",
        "  images_np_list.append(np.array(images.squeeze().numpy()*255, dtype=np.uint8))\n",
        "  labels_np_list.append(labels.numpy())"
      ],
      "metadata": {
        "id": "vxJLlSyhcWHQ"
      },
      "execution_count": null,
      "outputs": []
    },
    {
      "cell_type": "code",
      "source": [
        "images_np_list = np.concatenate(images_np_list)\n",
        "labels_np_list = np.concatenate(labels_np_list)"
      ],
      "metadata": {
        "id": "2b2J0O1Mc4_F"
      },
      "execution_count": null,
      "outputs": []
    },
    {
      "cell_type": "code",
      "source": [
        "len(images_np_list)"
      ],
      "metadata": {
        "colab": {
          "base_uri": "https://localhost:8080/"
        },
        "id": "BVgSFC9WfTyv",
        "outputId": "34138af3-3cf9-42ed-fba1-5699bde46dd2"
      },
      "execution_count": null,
      "outputs": [
        {
          "output_type": "execute_result",
          "data": {
            "text/plain": [
              "60000"
            ]
          },
          "metadata": {},
          "execution_count": 24
        }
      ]
    },
    {
      "cell_type": "code",
      "source": [
        "images_np_list.shape"
      ],
      "metadata": {
        "colab": {
          "base_uri": "https://localhost:8080/"
        },
        "id": "pT-pxC99mJ3S",
        "outputId": "67e3bf87-b57a-4c52-e9d5-58b9fdf5d465"
      },
      "execution_count": null,
      "outputs": [
        {
          "output_type": "execute_result",
          "data": {
            "text/plain": [
              "(60000, 28, 28)"
            ]
          },
          "metadata": {},
          "execution_count": 36
        }
      ]
    },
    {
      "cell_type": "code",
      "source": [
        "images_np_list[0].shape"
      ],
      "metadata": {
        "colab": {
          "base_uri": "https://localhost:8080/"
        },
        "id": "oZJn4SfpfX35",
        "outputId": "9553b3f5-19ea-4541-dec8-95d20bbf44de"
      },
      "execution_count": null,
      "outputs": [
        {
          "output_type": "execute_result",
          "data": {
            "text/plain": [
              "(28, 28)"
            ]
          },
          "metadata": {},
          "execution_count": 25
        }
      ]
    },
    {
      "cell_type": "code",
      "source": [
        "set(labels_np_list)"
      ],
      "metadata": {
        "colab": {
          "base_uri": "https://localhost:8080/"
        },
        "id": "4j38Khivqf-r",
        "outputId": "ce83d6ef-a986-4178-8fff-c4956f62707e"
      },
      "execution_count": null,
      "outputs": [
        {
          "output_type": "execute_result",
          "data": {
            "text/plain": [
              "{0, 1, 2, 3, 4, 5, 6, 7, 8, 9}"
            ]
          },
          "metadata": {},
          "execution_count": 55
        }
      ]
    },
    {
      "cell_type": "code",
      "source": [
        "import matplotlib.pyplot as plt"
      ],
      "metadata": {
        "id": "4KLqw-Jxjxbk"
      },
      "execution_count": null,
      "outputs": []
    },
    {
      "cell_type": "code",
      "source": [
        "plt.imshow(images_np_list[6515], cmap=\"gray\")"
      ],
      "metadata": {
        "colab": {
          "base_uri": "https://localhost:8080/",
          "height": 447
        },
        "id": "bgCA6A5kkFHN",
        "outputId": "54fc5de9-922d-48b0-dd9a-89967afd5158"
      },
      "execution_count": null,
      "outputs": [
        {
          "output_type": "execute_result",
          "data": {
            "text/plain": [
              "<matplotlib.image.AxesImage at 0x791341932490>"
            ]
          },
          "metadata": {},
          "execution_count": 35
        },
        {
          "output_type": "display_data",
          "data": {
            "text/plain": [
              "<Figure size 640x480 with 1 Axes>"
            ],
            "image/png": "[encoded data removed]"
          },
          "metadata": {}
        }
      ]
    },
    {
      "cell_type": "code",
      "source": [
        "images_np_list.mean()"
      ],
      "metadata": {
        "colab": {
          "base_uri": "https://localhost:8080/"
        },
        "id": "qtIBtmUykPrS",
        "outputId": "9a0c3a87-b032-42fe-86f4-be0932321903"
      },
      "execution_count": null,
      "outputs": [
        {
          "output_type": "execute_result",
          "data": {
            "text/plain": [
              "33.318421449829934"
            ]
          },
          "metadata": {},
          "execution_count": 37
        }
      ]
    },
    {
      "cell_type": "code",
      "source": [
        "images_np_list.std()"
      ],
      "metadata": {
        "colab": {
          "base_uri": "https://localhost:8080/"
        },
        "id": "M5UREh9dmTRF",
        "outputId": "467516eb-d106-4ff3-a7fe-1fe72da0fa78"
      },
      "execution_count": null,
      "outputs": [
        {
          "output_type": "execute_result",
          "data": {
            "text/plain": [
              "78.56748998339798"
            ]
          },
          "metadata": {},
          "execution_count": 38
        }
      ]
    },
    {
      "cell_type": "code",
      "source": [
        "np.median(images_np_list)"
      ],
      "metadata": {
        "colab": {
          "base_uri": "https://localhost:8080/"
        },
        "id": "2YaTFb8YmfdV",
        "outputId": "9ca7fce5-5893-45da-c75b-774d8bab0920"
      },
      "execution_count": null,
      "outputs": [
        {
          "output_type": "execute_result",
          "data": {
            "text/plain": [
              "0.0"
            ]
          },
          "metadata": {},
          "execution_count": 40
        }
      ]
    },
    {
      "cell_type": "code",
      "source": [
        "np.max(images_np_list)"
      ],
      "metadata": {
        "colab": {
          "base_uri": "https://localhost:8080/"
        },
        "id": "gnNhZ9yOmoK-",
        "outputId": "6e4e932c-4353-4a00-90c5-e0d4f9062622"
      },
      "execution_count": null,
      "outputs": [
        {
          "output_type": "execute_result",
          "data": {
            "text/plain": [
              "255"
            ]
          },
          "metadata": {},
          "execution_count": 41
        }
      ]
    },
    {
      "cell_type": "code",
      "source": [
        "np.min(images_np_list)"
      ],
      "metadata": {
        "colab": {
          "base_uri": "https://localhost:8080/"
        },
        "id": "MZVtKPGomzlE",
        "outputId": "b4f1bfc3-1cf7-40f6-ef8d-28f371531874"
      },
      "execution_count": null,
      "outputs": [
        {
          "output_type": "execute_result",
          "data": {
            "text/plain": [
              "0"
            ]
          },
          "metadata": {},
          "execution_count": 42
        }
      ]
    },
    {
      "cell_type": "code",
      "source": [
        "mnist_hist = np.zeros(256, dtype= np.int32)"
      ],
      "metadata": {
        "id": "5BUzNXqEm-Qc"
      },
      "execution_count": null,
      "outputs": []
    },
    {
      "cell_type": "code",
      "source": [
        "for img in tqdm.tqdm(images_np_list):\n",
        "  for i in range(img.shape[0]):\n",
        "    for j in range(img.shape[1]):\n",
        "      intensity = img[i,j]\n",
        "\n",
        "      mnist_hist[intensity] += 1"
      ],
      "metadata": {
        "colab": {
          "base_uri": "https://localhost:8080/"
        },
        "id": "oZQdp5cwndZ7",
        "outputId": "35338715-6e46-4c80-874d-12672027ad66"
      },
      "execution_count": null,
      "outputs": [
        {
          "output_type": "stream",
          "name": "stderr",
          "text": [
            "100%|██████████| 60000/60000 [02:11<00:00, 457.23it/s]\n"
          ]
        }
      ]
    },
    {
      "cell_type": "code",
      "source": [
        "plt.plot(mnist_hist)\n",
        "plt.show()"
      ],
      "metadata": {
        "colab": {
          "base_uri": "https://localhost:8080/",
          "height": 445
        },
        "id": "YCe1iKRZn9av",
        "outputId": "d8012288-5a13-483c-ceed-a00f38bb9fcd"
      },
      "execution_count": null,
      "outputs": [
        {
          "output_type": "display_data",
          "data": {
            "text/plain": [
              "<Figure size 640x480 with 1 Axes>"
            ],
            "image/png": "[encoded data removed]"
          },
          "metadata": {}
        }
      ]
    },
    {
      "cell_type": "code",
      "source": [
        "mnist_hist = np.zeros(256, dtype= np.int32)"
      ],
      "metadata": {
        "id": "6M_6xCRWo4XX"
      },
      "execution_count": null,
      "outputs": []
    },
    {
      "cell_type": "code",
      "source": [
        "for img in tqdm.tqdm(images_np_list):\n",
        "  for i in range(img.shape[0]):\n",
        "    for j in range(img.shape[1]):\n",
        "      intensity = img[i,j]\n",
        "      if intensity < 10 :\n",
        "        continue\n",
        "\n",
        "      mnist_hist[intensity] += 1"
      ],
      "metadata": {
        "colab": {
          "base_uri": "https://localhost:8080/"
        },
        "outputId": "bc4e8350-3bf8-456d-87f7-a925fcd72010",
        "id": "nzZJrRGPo42i"
      },
      "execution_count": null,
      "outputs": [
        {
          "output_type": "stream",
          "name": "stderr",
          "text": [
            "100%|██████████| 60000/60000 [02:10<00:00, 459.42it/s]\n"
          ]
        }
      ]
    },
    {
      "cell_type": "code",
      "source": [
        "plt.plot(mnist_hist)\n",
        "plt.show()"
      ],
      "metadata": {
        "colab": {
          "base_uri": "https://localhost:8080/",
          "height": 445
        },
        "outputId": "f3b668c8-0dba-4e6e-89cd-af04cabbd7b0",
        "id": "YnZIJ_Ggo42j"
      },
      "execution_count": null,
      "outputs": [
        {
          "output_type": "display_data",
          "data": {
            "text/plain": [
              "<Figure size 640x480 with 1 Axes>"
            ],
            "image/png": "[encoded data removed]"
          },
          "metadata": {}
        }
      ]
    },
    {
      "cell_type": "code",
      "source": [],
      "metadata": {
        "id": "_ome2rncpGxi"
      },
      "execution_count": null,
      "outputs": []
    },
    {
      "cell_type": "code",
      "source": [
        "mnist_hist = np.zeros(256, dtype= np.int32)"
      ],
      "metadata": {
        "id": "YIoTGGWppvEt"
      },
      "execution_count": null,
      "outputs": []
    },
    {
      "cell_type": "code",
      "source": [
        "for img in tqdm.tqdm(images_np_list):\n",
        "  for i in range(img.shape[0]):\n",
        "    for j in range(img.shape[1]):\n",
        "      intensity = img[i,j]\n",
        "      if intensity < 10 :\n",
        "        continue\n",
        "      if intensity > 245 :\n",
        "        continue\n",
        "\n",
        "      mnist_hist[intensity] += 1"
      ],
      "metadata": {
        "colab": {
          "base_uri": "https://localhost:8080/"
        },
        "outputId": "3e3e3452-f285-4af1-84d3-61e739d015f1",
        "id": "ii5LrBEUpvEt"
      },
      "execution_count": null,
      "outputs": [
        {
          "output_type": "stream",
          "name": "stderr",
          "text": [
            "100%|██████████| 60000/60000 [02:20<00:00, 426.40it/s]\n"
          ]
        }
      ]
    },
    {
      "cell_type": "code",
      "source": [
        "plt.plot(mnist_hist)\n",
        "plt.show()"
      ],
      "metadata": {
        "colab": {
          "base_uri": "https://localhost:8080/",
          "height": 430
        },
        "outputId": "8d5851f6-9ff7-48a7-fe10-4431b8378d28",
        "id": "W0YWa0YUpvEt"
      },
      "execution_count": null,
      "outputs": [
        {
          "output_type": "display_data",
          "data": {
            "text/plain": [
              "<Figure size 640x480 with 1 Axes>"
            ],
            "image/png": "[encoded data removed]"
          },
          "metadata": {}
        }
      ]
    },
    {
      "cell_type": "code",
      "source": [
        "set()"
      ],
      "metadata": {
        "id": "DN6oKrgKqbZO"
      },
      "execution_count": null,
      "outputs": []
    },
    {
      "cell_type": "markdown",
      "source": [
        "# CIFAR 10\n",
        "* 60,000 colored images (32*32)\n",
        "classes:\n",
        "* Ariplane\n",
        "* Automobile\n",
        "* Bird\n",
        "* Cat\n",
        "* Dog\n",
        "* Deer\n",
        "* Horse\n",
        "* Frog\n",
        "* Ship\n",
        "* Truck"
      ],
      "metadata": {
        "id": "NFNhjbo-qN-q"
      }
    },
    {
      "cell_type": "code",
      "source": [],
      "metadata": {
        "id": "l3XG-ArWqMwR"
      },
      "execution_count": null,
      "outputs": []
    },
    {
      "cell_type": "code",
      "source": [],
      "metadata": {
        "id": "iKzv1Mjapzrz"
      },
      "execution_count": null,
      "outputs": []
    }
  ]
}